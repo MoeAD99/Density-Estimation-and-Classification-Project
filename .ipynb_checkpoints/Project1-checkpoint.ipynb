{
 "cells": [
  {
   "cell_type": "code",
   "execution_count": 47,
   "metadata": {},
   "outputs": [
    {
     "name": "stdout",
     "output_type": "stream",
     "text": [
      "5000\n",
      "(5000, 28, 28)\n"
     ]
    }
   ],
   "source": [
    "import numpy as np\n",
    "import scipy.io\n",
    "import math\n",
    "import geneNewData\n",
    "\n",
    "def main():\n",
    "    myID='1391' #change to last 4 digit of your studentID\n",
    "    geneNewData.geneData(myID)\n",
    "    Numpyfile0 = scipy.io.loadmat('digit0_stu_train'+myID+'.mat')\n",
    "    Numpyfile1 = scipy.io.loadmat('digit1_stu_train'+myID+'.mat')\n",
    "    Numpyfile2 = scipy.io.loadmat('digit0_testset'+'.mat')\n",
    "    Numpyfile3 = scipy.io.loadmat('digit1_testset'+'.mat')\n",
    "    train0 = Numpyfile0.get('target_img')\n",
    "    train1 = Numpyfile1.get('target_img')\n",
    "    test0 = Numpyfile2.get('target_img')\n",
    "    test1 = Numpyfile3.get('target_img')\n",
    "    #print([len(train0),len(train1),len(test0),len(test1)])\n",
    "    #print('Your trainset and testset are generated successfully!')\n",
    "    mean0 = np.mean(train0.reshape(5000, 784), axis=1)\n",
    "    sd0 = np.std(train0.reshape(5000, 784), axis=1)\n",
    "    mean1 = np.mean(train1.reshape(5000, 784), axis=1)\n",
    "    sd1 = np.std(train1.reshape(5000, 784), axis=1)\n",
    "    # feature1_0 = []\n",
    "    # feature2_0 = []\n",
    "    # feature1_1 = []\n",
    "    # feature2_1 = []\n",
    "    # for i in train0:\n",
    "    #     feature1_0.append(np.sum(train0[i])/ len(train0[i]))\n",
    "    #     feature2_0.append(np.std(train0[i]))\n",
    "    # for i in train1:\n",
    "    #     feature1_1.append(np.sum(train1[i])/ len(train1[i]))\n",
    "    #     feature2_1.append(np.std(train1[i]))\n",
    "        \n",
    "    # mean_feature1_0 = np.mean(feature1_0)\n",
    "    # var_feature1_0 = np.var(feature1_0)\n",
    "    # mean_feature2_0 = np.mean(feature2_0)\n",
    "    # var_feature2_0 = np.var(feature2_0)\n",
    "    \n",
    "    # mean_feature1_1 = np.mean(feature1_1)\n",
    "    # var_feature1_1 = np.var(feature1_1)\n",
    "    # mean_feature2_1 = np.mean(feature2_1)\n",
    "    # var_feature2_1 = np.var(feature2_1)\n",
    "    #print(train0[0])\n",
    "    # print(np.mean(train0[0]))\n",
    "    print(mean0.size)\n",
    "    print(train0.shape)\n",
    "    #result = [\"1231151391\", mean_feature1_0, var_feature1_0, mean_feature2_0, var_feature2_0, mean_feature1_1, var_feature1_1, mean_feature2_1, var_feature2_1, 0, 0]\n",
    "    #return result\n",
    "    pass\n",
    "\n",
    "\n",
    "if __name__ == '__main__':\n",
    "    main()"
   ]
  },
  {
   "cell_type": "markdown",
   "metadata": {},
   "source": [
    "# **Note:**\n",
    "\n",
    "* Your output should be a list in the following format:\n",
    "['ASUId',\n",
    "Mean_of_feature1_for_digit0, Variance_of_feature1_for_digit0,\n",
    "Mean_of_feature2_for_digit0, Variance_of_feature2_for_digit0 ,\n",
    "Mean_of_feature1_for_digit1, Variance_of_feature1_for_digit1,\n",
    "Mean_of_feature2_for_digit1, Variance_of_feature2_for_digit1,\n",
    "Accuracy_for_digit0testset, Accuracy_for_digit1testset]\n",
    "* The **order** of these 11 components are important.\n",
    "* Please print the result in the same cell that contains the comment `\"### TEST FUNCTION: test_question1\"` so that the autograder can capture your output and provide accurate feedback. Do not print anything else in the code cell below.\n",
    "* You can divide the code into different cells but the output should be printed in the cell containing the comment `\"### TEST FUNCTION: test_question1\"` \n"
   ]
  },
  {
   "cell_type": "code",
   "execution_count": 25,
   "metadata": {},
   "outputs": [
    {
     "name": "stdout",
     "output_type": "stream",
     "text": [
      "42.95025510204081\n",
      "1202.607142857143\n",
      "42.95025510204081\n",
      "['1231151391', 949805.5022642857, 162931567.0097186, 88.90189799153522, 0.2854847231593093, 474079.08570714283, 11740280.759470357, 65.01928668917965, 0.06486941075777759, 0, 0]\n"
     ]
    }
   ],
   "source": [
    "### TEST FUNCTION: test_question1\n",
    "# DO NOT REMOVE THE ABOVE LINE\n",
    "print(main())"
   ]
  },
  {
   "cell_type": "code",
   "execution_count": null,
   "metadata": {},
   "outputs": [],
   "source": []
  }
 ],
 "metadata": {
  "kernelspec": {
   "display_name": "Python 3 (ipykernel)",
   "language": "python",
   "name": "python3"
  },
  "language_info": {
   "codemirror_mode": {
    "name": "ipython",
    "version": 3
   },
   "file_extension": ".py",
   "mimetype": "text/x-python",
   "name": "python",
   "nbconvert_exporter": "python",
   "pygments_lexer": "ipython3",
   "version": "3.8.18"
  }
 },
 "nbformat": 4,
 "nbformat_minor": 4
}
