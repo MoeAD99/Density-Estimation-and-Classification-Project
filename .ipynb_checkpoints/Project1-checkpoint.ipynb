{
 "cells": [
  {
   "cell_type": "code",
   "execution_count": 31,
   "metadata": {},
   "outputs": [],
   "source": [
    "import numpy as np\n",
    "import scipy.io\n",
    "import math\n",
    "import geneNewData\n",
    "\n",
    "def main():\n",
    "    myID='1391' #change to last 4 digit of your studentID\n",
    "    geneNewData.geneData(myID)\n",
    "    Numpyfile0 = scipy.io.loadmat('digit0_stu_train'+myID+'.mat')\n",
    "    Numpyfile1 = scipy.io.loadmat('digit1_stu_train'+myID+'.mat')\n",
    "    Numpyfile2 = scipy.io.loadmat('digit0_testset'+'.mat')\n",
    "    Numpyfile3 = scipy.io.loadmat('digit1_testset'+'.mat')\n",
    "    train0 = Numpyfile0.get('target_img')\n",
    "    train1 = Numpyfile1.get('target_img')\n",
    "    test0 = Numpyfile2.get('target_img')\n",
    "    test1 = Numpyfile3.get('target_img')\n",
    "    #print([len(train0),len(train1),len(test0),len(test1)])\n",
    "    #print('Your trainset and testset are generated successfully!')\n",
    "    trainset_length = len(train0) # length is 5000 for both train0 and train1\n",
    "    pixels_per_image = train0[0].size # 784 pixels per image\n",
    "    # reshape each trainset from 3D (5000, 28, 28) to 2D (5000, 784), thus flattening each individual image array\n",
    "    train0_reshaped = train0.reshape(trainset_length, pixels_per_image)\n",
    "    train1_reshaped = train1.reshape(trainset_length, pixels_per_image)\n",
    "    # mean and standard deviation are calculated along axis 1 (rows) of each trainset. Each row represents 1 image array\n",
    "    mean0 = np.mean(train0_reshaped, axis=1)\n",
    "    sd0 = np.std(train0_reshaped, axis=1)\n",
    "    mean1 = np.mean(train1_reshaped, axis=1)\n",
    "    sd1 = np.std(train1_reshaped, axis=1)\n",
    "        \n",
    "    mean_feature1_0 = np.mean(mean0)\n",
    "    var_feature1_0 = np.var(mean0)\n",
    "    mean_feature2_0 = np.mean(sd0)\n",
    "    var_feature2_0 = np.var(sd0)\n",
    "    \n",
    "    mean_feature1_1 = np.mean(mean1)\n",
    "    var_feature1_1 = np.var(mean1)\n",
    "    mean_feature2_1 = np.mean(sd1)\n",
    "    var_feature2_1 = np.var(sd1)\n",
    "    # print(train0.shape)\n",
    "    result = [\"1391\", mean_feature1_0, var_feature1_0, mean_feature2_0, var_feature2_0, mean_feature1_1, var_feature1_1, mean_feature2_1, var_feature2_1, 0, 0]\n",
    "    return result\n",
    "\n",
    "\n",
    "if __name__ == '__main__':\n",
    "    main()"
   ]
  },
  {
   "cell_type": "markdown",
   "metadata": {},
   "source": [
    "# **Note:**\n",
    "\n",
    "* Your output should be a list in the following format:\n",
    "['ASUId',\n",
    "Mean_of_feature1_for_digit0, Variance_of_feature1_for_digit0,\n",
    "Mean_of_feature2_for_digit0, Variance_of_feature2_for_digit0 ,\n",
    "Mean_of_feature1_for_digit1, Variance_of_feature1_for_digit1,\n",
    "Mean_of_feature2_for_digit1, Variance_of_feature2_for_digit1,\n",
    "Accuracy_for_digit0testset, Accuracy_for_digit1testset]\n",
    "* The **order** of these 11 components are important.\n",
    "* Please print the result in the same cell that contains the comment `\"### TEST FUNCTION: test_question1\"` so that the autograder can capture your output and provide accurate feedback. Do not print anything else in the code cell below.\n",
    "* You can divide the code into different cells but the output should be printed in the cell containing the comment `\"### TEST FUNCTION: test_question1\"` \n"
   ]
  },
  {
   "cell_type": "code",
   "execution_count": 32,
   "metadata": {},
   "outputs": [
    {
     "name": "stdout",
     "output_type": "stream",
     "text": [
      "['1391', 44.16709005102041, 116.55307458838448, 87.38473381655496, 102.99175290160784, 19.400870153061224, 31.92200532942518, 61.39287609944414, 83.60005463130301, 0, 0]\n"
     ]
    }
   ],
   "source": [
    "### TEST FUNCTION: test_question1\n",
    "# DO NOT REMOVE THE ABOVE LINE\n",
    "print(main())"
   ]
  },
  {
   "cell_type": "code",
   "execution_count": null,
   "metadata": {},
   "outputs": [],
   "source": []
  }
 ],
 "metadata": {
  "kernelspec": {
   "display_name": "Python 3 (ipykernel)",
   "language": "python",
   "name": "python3"
  },
  "language_info": {
   "codemirror_mode": {
    "name": "ipython",
    "version": 3
   },
   "file_extension": ".py",
   "mimetype": "text/x-python",
   "name": "python",
   "nbconvert_exporter": "python",
   "pygments_lexer": "ipython3",
   "version": "3.8.18"
  }
 },
 "nbformat": 4,
 "nbformat_minor": 4
}
